{
 "cells": [
  {
   "cell_type": "code",
   "execution_count": 2,
   "id": "bb33dc4e",
   "metadata": {},
   "outputs": [],
   "source": [
    "from matplotlib import pyplot\n",
    "from PIL import Image\n",
    "from numpy import asarray\n",
    "from scipy.spatial.distance import cosine\n",
    "from mtcnn.mtcnn import MTCNN\n",
    "from keras_vggface.vggface import VGGFace\n",
    "from keras_vggface.utils import preprocess_input\n",
    "from sklearn.metrics import accuracy_score\n",
    "from sklearn.preprocessing import LabelEncoder, Normalizer\n",
    "from sklearn.svm import SVC\n",
    "from facenet_pytorch import MTCNN\n",
    "import torch"
   ]
  },
  {
   "cell_type": "code",
   "execution_count": 6,
   "id": "33b95186",
   "metadata": {},
   "outputs": [],
   "source": [
    " \n",
    "# extract a single face from a given photograph\n",
    "def extract_face(filename, required_size=(224, 224)):\n",
    "    # load image from file\n",
    "    pixels = pyplot.imread(filename)\n",
    "    # create the detector, using default weights\n",
    "    detector = MTCNN()\n",
    "    # detect faces in the image\n",
    "    results = detector.detect_faces(pixels)\n",
    "    print(results)\n",
    "    # extract the bounding box from the first face\n",
    "    x1, y1, width, height = results[0]['box']\n",
    "    x2, y2 = x1 + width, y1 + height\n",
    "    # extract the face\n",
    "    face = pixels[y1:y2, x1:x2]\n",
    "    # resize pixels to the model size\n",
    "    image = Image.fromarray(face)\n",
    "    image = image.resize(required_size)\n",
    "    face_array = asarray(image)\n",
    "    return face_array"
   ]
  },
  {
   "cell_type": "code",
   "execution_count": 7,
   "id": "34644f02",
   "metadata": {},
   "outputs": [],
   "source": [
    "# extract faces and calculate face embeddings for a list of photo files\n",
    "def get_embeddings(filenames):\n",
    "    # extract faces\n",
    "    faces = [extract_face(f) for f in filenames]\n",
    "    # convert into an array of samples\n",
    "    samples = asarray(faces, 'float32')\n",
    "    # prepare the face for the model, e.g. center pixels\n",
    "    samples = preprocess_input(samples, version=2)\n",
    "    # create a vggface model\n",
    "    model = VGGFace(model='resnet50', include_top=False, input_shape=(224, 224, 3), pooling='avg')\n",
    "    # perform prediction\n",
    "    yhat = model.predict(samples)\n",
    "    return yhat\n",
    " \n"
   ]
  },
  {
   "cell_type": "code",
   "execution_count": 26,
   "id": "60b90b2b",
   "metadata": {},
   "outputs": [
    {
     "name": "stdout",
     "output_type": "stream",
     "text": [
      "[{'box': [587, 280, 221, 286], 'confidence': 1.0, 'keypoints': {'left_eye': (666, 384), 'right_eye': (767, 387), 'nose': (726, 441), 'mouth_left': (674, 497), 'mouth_right': (760, 498)}}]\n",
      "[{'box': [504, 697, 169, 298], 'confidence': 0.9475782513618469, 'keypoints': {'left_eye': (621, 822), 'right_eye': (671, 817), 'nose': (670, 888), 'mouth_left': (609, 943), 'mouth_right': (645, 940)}}]\n",
      "[{'box': [47, 32, 43, 48], 'confidence': 0.9989558458328247, 'keypoints': {'left_eye': (61, 53), 'right_eye': (81, 52), 'nose': (72, 63), 'mouth_left': (63, 71), 'mouth_right': (81, 71)}}]\n",
      "[{'box': [357, 71, 112, 137], 'confidence': 1.0, 'keypoints': {'left_eye': (389, 123), 'right_eye': (443, 123), 'nose': (415, 147), 'mouth_left': (390, 173), 'mouth_right': (438, 174)}}]\n",
      "[{'box': [31, 67, 36, 39], 'confidence': 0.9999871253967285, 'keypoints': {'left_eye': (43, 82), 'right_eye': (60, 79), 'nose': (54, 91), 'mouth_left': (46, 98), 'mouth_right': (62, 96)}}]\n",
      "(2048,)\n",
      "(2048,)\n",
      "Positive Tests\n",
      ">face is NOT a Match (0.535 > 0.500)\n",
      "Negative Tests\n",
      ">face is NOT a Match (0.610 > 0.500)\n"
     ]
    }
   ],
   "source": [
    "# determine if a candidate face is a match for a known face\n",
    "def is_match(known_embedding, candidate_embedding, thresh=0.5):\n",
    "    # calculate distance between embeddings\n",
    "    score = cosine(known_embedding, candidate_embedding)\n",
    "    if score <= thresh:\n",
    "        print('>face is a Match (%.3f <= %.3f)' % (score, thresh))\n",
    "    else:\n",
    "        print('>face is NOT a Match (%.3f > %.3f)' % (score, thresh))\n",
    " \n",
    "# define filenames\n",
    "filenames = ['testing_data/ahmed_new.jpg', 'testing_data/ahmed1.1.jpeg', 'testing_data/fouz.jpeg', 'testing_data/fouzan.jpeg','testing_data/ahmed1.2.jpeg']\n",
    "# get embeddings file filenames\n",
    "embeddings = get_embeddings(filenames)\n",
    "print(embeddings[0].shape)\n",
    "print(embeddings[1].shape)\n",
    "# # define sharon stone\n",
    "# sharon_id = embeddings[0]\n",
    "# # verify known photos of sharon\n",
    "print('Positive Tests')\n",
    "is_match(embeddings[0], embeddings[4])\n",
    "# is_match(embeddings[0], embeddings[2])em\n",
    "# # verify known photos of other people\n",
    "print('Negative Tests')\n",
    "is_match(embeddings[0], embeddings[2])"
   ]
  },
  {
   "cell_type": "code",
   "execution_count": 30,
   "id": "e53d2391",
   "metadata": {},
   "outputs": [
    {
     "name": "stdout",
     "output_type": "stream",
     "text": [
      "Accuracy: train=100.0, test=100.0\n"
     ]
    }
   ],
   "source": [
    "trainy = [0,0,1,1,0]\n",
    "model = SVC(kernel='linear', probability=True)\n",
    "model.fit(embeddings, trainy)\n",
    "# predict\n",
    "yhat_train = model.predict(embeddings)\n",
    "yhat_test = model.predict(embeddings)\n",
    "# score\n",
    "score_train = accuracy_score(trainy, yhat_train)\n",
    "score_test = accuracy_score(trainy, yhat_test)\n",
    "\n",
    "# summarize\n",
    "print(f\"Accuracy: train={score_train*100}, test={score_test*100}\")"
   ]
  },
  {
   "cell_type": "code",
   "execution_count": 32,
   "id": "ea16a65a",
   "metadata": {},
   "outputs": [
    {
     "data": {
      "text/plain": [
       "array([0, 0, 1, 1, 0])"
      ]
     },
     "execution_count": 32,
     "metadata": {},
     "output_type": "execute_result"
    }
   ],
   "source": [
    "yhat_test"
   ]
  },
  {
   "cell_type": "code",
   "execution_count": null,
   "id": "77a213b6",
   "metadata": {},
   "outputs": [],
   "source": []
  }
 ],
 "metadata": {
  "kernelspec": {
   "display_name": "Python 3",
   "language": "python",
   "name": "python3"
  },
  "language_info": {
   "codemirror_mode": {
    "name": "ipython",
    "version": 3
   },
   "file_extension": ".py",
   "mimetype": "text/x-python",
   "name": "python",
   "nbconvert_exporter": "python",
   "pygments_lexer": "ipython3",
   "version": "3.6.2"
  }
 },
 "nbformat": 4,
 "nbformat_minor": 5
}
