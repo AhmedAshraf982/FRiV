{
 "cells": [
  {
   "cell_type": "code",
   "execution_count": 1,
   "id": "9feb933c",
   "metadata": {},
   "outputs": [],
   "source": [
    "import cv2"
   ]
  },
  {
   "cell_type": "code",
   "execution_count": 81,
   "id": "a44feb17",
   "metadata": {},
   "outputs": [],
   "source": [
    "cap = cv2.VideoCapture('testing_data/R12NewVideo.mp4')"
   ]
  },
  {
   "cell_type": "code",
   "execution_count": 82,
   "id": "97309bf8",
   "metadata": {},
   "outputs": [],
   "source": [
    "frames = cap.get(cv2.CAP_PROP_FRAME_COUNT)"
   ]
  },
  {
   "cell_type": "code",
   "execution_count": 83,
   "id": "44759ea3",
   "metadata": {},
   "outputs": [],
   "source": [
    "fps = cap.get(cv2.CAP_PROP_FPS)"
   ]
  },
  {
   "cell_type": "code",
   "execution_count": 84,
   "id": "d197fef1",
   "metadata": {},
   "outputs": [],
   "source": [
    "height = cap.get(cv2.CAP_PROP_FRAME_HEIGHT)\n",
    "width = cap.get(cv2.CAP_PROP_FRAME_WIDTH)"
   ]
  },
  {
   "cell_type": "code",
   "execution_count": 85,
   "id": "42cbb429",
   "metadata": {},
   "outputs": [],
   "source": [
    "fourcc = cv2.VideoWriter_fourcc(*'MJPG')\n",
    "out = cv2.VideoWriter('reversed2.mp4', fourcc,fps ,(int(width), int(height)))"
   ]
  },
  {
   "cell_type": "code",
   "execution_count": 86,
   "id": "ebe2bd27",
   "metadata": {},
   "outputs": [
    {
     "name": "stdout",
     "output_type": "stream",
     "text": [
      "No. of frames are : 3311.0\n",
      "FPS is :30.0\n"
     ]
    }
   ],
   "source": [
    "print(\"No. of frames are : {}\".format(frames))\n",
    "print(\"FPS is :{}\".format(fps))"
   ]
  },
  {
   "cell_type": "code",
   "execution_count": 87,
   "id": "4991f438",
   "metadata": {},
   "outputs": [],
   "source": [
    "frame_index = frames-1"
   ]
  },
  {
   "cell_type": "code",
   "execution_count": 88,
   "id": "0b65d35b",
   "metadata": {},
   "outputs": [
    {
     "name": "stdout",
     "output_type": "stream",
     "text": [
      "3300.0\n",
      "3200.0\n",
      "3100.0\n",
      "3000.0\n",
      "2900.0\n",
      "2800.0\n",
      "2700.0\n",
      "2600.0\n",
      "2500.0\n",
      "2400.0\n",
      "2300.0\n",
      "2200.0\n",
      "2100.0\n",
      "2000.0\n",
      "1900.0\n",
      "1800.0\n",
      "1700.0\n",
      "1600.0\n",
      "1500.0\n",
      "1400.0\n",
      "1300.0\n",
      "1200.0\n",
      "1100.0\n",
      "1000.0\n",
      "900.0\n",
      "800.0\n",
      "700.0\n",
      "600.0\n",
      "500.0\n",
      "400.0\n",
      "300.0\n",
      "200.0\n",
      "100.0\n",
      "0.0\n"
     ]
    }
   ],
   "source": [
    "if(cap.isOpened()):\n",
    "\n",
    "    while(frame_index!=0):\n",
    "\n",
    "        cap.set(cv2.CAP_PROP_POS_FRAMES, frame_index)\n",
    "        ret, frame = cap.read()\n",
    "\n",
    "        frame = cv2.resize(frame,(int(width), int(height)))\n",
    "\n",
    "        out.write(frame)\n",
    "\n",
    "        frame_index = frame_index-1\n",
    "\n",
    "        if(frame_index%100==0):\n",
    "            print(frame_index)\n",
    "\n",
    "out.release()\n",
    "cap.release()\n",
    "cv2.destroyAllWindows()"
   ]
  },
  {
   "cell_type": "code",
   "execution_count": 4,
   "id": "da17b7e1",
   "metadata": {},
   "outputs": [],
   "source": [
    "import numpy as np\n",
    "\n",
    "\n",
    "data = np.load('Backend/VGGFaceModelData/faceEmbeddings.npz')\n",
    "trainX, trainy = data['arr_0'], data['arr_1']"
   ]
  },
  {
   "cell_type": "code",
   "execution_count": 4,
   "id": "07726d94",
   "metadata": {},
   "outputs": [],
   "source": [
    "trainy = np.unique(trainy)"
   ]
  },
  {
   "cell_type": "code",
   "execution_count": 5,
   "id": "0fde1edb",
   "metadata": {},
   "outputs": [
    {
     "data": {
      "text/plain": [
       "array(['Aashir', 'Aashir', 'Aashir', ..., 'Shahbaz', 'Shahbaz', 'Shahbaz'],\n",
       "      dtype='<U18')"
      ]
     },
     "execution_count": 5,
     "metadata": {},
     "output_type": "execute_result"
    }
   ],
   "source": [
    "trainy"
   ]
  },
  {
   "cell_type": "code",
   "execution_count": 6,
   "id": "7498ea41",
   "metadata": {},
   "outputs": [
    {
     "name": "stdout",
     "output_type": "stream",
     "text": [
      "1\n",
      "2\n",
      "3\n",
      "4\n",
      "5\n",
      "6\n",
      "7\n",
      "8\n",
      "9\n",
      "10\n",
      "11\n",
      "12\n",
      "13\n",
      "14\n",
      "15\n",
      "16\n",
      "17\n",
      "18\n",
      "19\n",
      "20\n",
      "21\n",
      "22\n",
      "23\n",
      "24\n",
      "25\n",
      "26\n",
      "27\n",
      "28\n",
      "29\n",
      "30\n",
      "31\n",
      "32\n",
      "33\n",
      "34\n",
      "35\n",
      "36\n",
      "37\n",
      "38\n",
      "39\n",
      "40\n",
      "41\n",
      "42\n",
      "43\n",
      "44\n",
      "45\n",
      "46\n",
      "47\n",
      "48\n",
      "49\n",
      "50\n",
      "51\n",
      "52\n",
      "53\n",
      "54\n",
      "55\n",
      "56\n",
      "57\n",
      "58\n",
      "59\n",
      "60\n",
      "61\n",
      "62\n",
      "63\n",
      "64\n",
      "65\n",
      "66\n",
      "67\n",
      "68\n",
      "69\n",
      "70\n",
      "71\n",
      "72\n",
      "73\n",
      "74\n",
      "75\n",
      "76\n",
      "77\n",
      "78\n",
      "79\n",
      "80\n",
      "81\n",
      "82\n",
      "83\n",
      "84\n",
      "85\n",
      "86\n",
      "87\n",
      "88\n",
      "89\n",
      "90\n"
     ]
    }
   ],
   "source": [
    "new_trainX = list()\n",
    "j = 1\n",
    "for i in range(0, len(trainy)):\n",
    "    if trainy[i] == 'Shahbaz':\n",
    "        print(j)\n",
    "        j += 1\n",
    "\n",
    "new_trainX = np.asarray(new_trainX)"
   ]
  },
  {
   "cell_type": "code",
   "execution_count": 90,
   "id": "844328b2",
   "metadata": {},
   "outputs": [
    {
     "data": {
      "text/plain": [
       "(0, 0)"
      ]
     },
     "execution_count": 90,
     "metadata": {},
     "output_type": "execute_result"
    }
   ],
   "source": [
    "len(trainXy), len(trainyX)"
   ]
  },
  {
   "cell_type": "code",
   "execution_count": 94,
   "id": "284b363a",
   "metadata": {},
   "outputs": [
    {
     "data": {
      "text/plain": [
       "(90, 2048)"
      ]
     },
     "execution_count": 94,
     "metadata": {},
     "output_type": "execute_result"
    }
   ],
   "source": [
    "new_trainX.shape"
   ]
  },
  {
   "cell_type": "code",
   "execution_count": 83,
   "id": "a0962d6d",
   "metadata": {},
   "outputs": [],
   "source": [
    "trainX = np.delete(trainX, count)"
   ]
  },
  {
   "cell_type": "code",
   "execution_count": 95,
   "id": "8d815c66",
   "metadata": {},
   "outputs": [
    {
     "data": {
      "text/plain": [
       "(4540, 2048)"
      ]
     },
     "execution_count": 95,
     "metadata": {},
     "output_type": "execute_result"
    }
   ],
   "source": [
    "trainX.shape"
   ]
  },
  {
   "cell_type": "code",
   "execution_count": 67,
   "id": "bc9d83a9",
   "metadata": {},
   "outputs": [],
   "source": [
    "trainXy = numpy.array(trainXy) \n",
    "  "
   ]
  },
  {
   "cell_type": "code",
   "execution_count": 68,
   "id": "ab1955dc",
   "metadata": {},
   "outputs": [
    {
     "data": {
      "text/plain": [
       "((0,), (4540, 2048))"
      ]
     },
     "execution_count": 68,
     "metadata": {},
     "output_type": "execute_result"
    }
   ],
   "source": [
    "trainXy.shape, trainX.shape"
   ]
  },
  {
   "cell_type": "code",
   "execution_count": null,
   "id": "c9c3e04e",
   "metadata": {},
   "outputs": [],
   "source": []
  }
 ],
 "metadata": {
  "kernelspec": {
   "display_name": "Python 3",
   "language": "python",
   "name": "python3"
  },
  "language_info": {
   "codemirror_mode": {
    "name": "ipython",
    "version": 3
   },
   "file_extension": ".py",
   "mimetype": "text/x-python",
   "name": "python",
   "nbconvert_exporter": "python",
   "pygments_lexer": "ipython3",
   "version": "3.8.16"
  }
 },
 "nbformat": 4,
 "nbformat_minor": 5
}
